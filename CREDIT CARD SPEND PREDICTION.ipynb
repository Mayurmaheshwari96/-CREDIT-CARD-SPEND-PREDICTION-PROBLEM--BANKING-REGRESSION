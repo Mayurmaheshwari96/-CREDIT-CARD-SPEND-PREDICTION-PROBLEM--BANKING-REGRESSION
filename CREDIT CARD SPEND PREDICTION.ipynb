{
 "cells": [
  {
   "cell_type": "code",
   "execution_count": 1,
   "metadata": {},
   "outputs": [
    {
     "name": "stdout",
     "output_type": "stream",
     "text": [
      "Populating the interactive namespace from numpy and matplotlib\n"
     ]
    }
   ],
   "source": [
    "%pylab inline\n",
    "import numpy as np\n",
    "import pandas as pd\n",
    "import matplotlib.pyplot as plt\n",
    "import seaborn as sns\n",
    "from pandas import Series, DataFrame\n",
    "\n"
   ]
  },
  {
   "cell_type": "code",
   "execution_count": 20,
   "metadata": {},
   "outputs": [],
   "source": [
    "import warnings\n",
    "warnings.filterwarnings('ignore')"
   ]
  },
  {
   "cell_type": "code",
   "execution_count": 21,
   "metadata": {},
   "outputs": [],
   "source": [
    "from sklearn.preprocessing import StandardScaler\n",
    "from sklearn.cross_validation import train_test_split\n",
    "from sklearn.decomposition import PCA\n",
    "from sklearn.manifold import TSNE\n",
    "from sklearn.cluster import KMeans, DBSCAN\n",
    "from sklearn.linear_model import LinearRegression, Lasso, Ridge, ElasticNet\n",
    "from sklearn.svm import SVR\n",
    "from sklearn.neighbors import KNeighborsRegressor\n",
    "from sklearn.ensemble import AdaBoostRegressor, GradientBoostingRegressor\n",
    "from sklearn.metrics import mean_absolute_error, mean_squared_error"
   ]
  },
  {
   "cell_type": "markdown",
   "metadata": {},
   "source": [
    "# Importing credit card data"
   ]
  },
  {
   "cell_type": "code",
   "execution_count": 22,
   "metadata": {},
   "outputs": [],
   "source": [
    "df = pd.read_csv('CREDIT CARD USERS DATA.csv')"
   ]
  },
  {
   "cell_type": "markdown",
   "metadata": {},
   "source": [
    "## Calculating total spent"
   ]
  },
  {
   "cell_type": "code",
   "execution_count": 23,
   "metadata": {},
   "outputs": [],
   "source": [
    "df['total_spent_on_card'] = df['cardspent'] + df['card2spent']"
   ]
  },
  {
   "cell_type": "code",
   "execution_count": 24,
   "metadata": {},
   "outputs": [
    {
     "data": {
      "text/plain": [
       "<matplotlib.axes._subplots.AxesSubplot at 0x23618cb9a58>"
      ]
     },
     "execution_count": 24,
     "metadata": {},
     "output_type": "execute_result"
    },
    {
     "data": {
      "image/png": "[encoded data removed]",
      "text/plain": [
       "<Figure size 432x288 with 1 Axes>"
      ]
     },
     "metadata": {},
     "output_type": "display_data"
    }
   ],
   "source": [
    "df['total_spent_on_card'].plot.hist(bins=20)"
   ]
  },
  {
   "cell_type": "code",
   "execution_count": 25,
   "metadata": {},
   "outputs": [
    {
     "data": {
      "text/plain": [
       "count    5000.00000\n",
       "mean      498.07863\n",
       "std       351.52927\n",
       "min         8.11000\n",
       "25%       276.28250\n",
       "50%       414.25000\n",
       "75%       615.56250\n",
       "max      4881.05000\n",
       "Name: total_spent_on_card, dtype: float64"
      ]
     },
     "execution_count": 25,
     "metadata": {},
     "output_type": "execute_result"
    }
   ],
   "source": [
    "df['total_spent_on_card'].describe()"
   ]
  },
  {
   "cell_type": "markdown",
   "metadata": {},
   "source": [
    "# Segregating the correlated variables"
   ]
  },
  {
   "cell_type": "code",
   "execution_count": 26,
   "metadata": {},
   "outputs": [
    {
     "data": {
      "text/plain": [
       "total_spent_on_card    1.000000\n",
       "cardspent              0.941492\n",
       "card2spent             0.825244\n",
       "card2items             0.403740\n",
       "carditems              0.391936\n",
       "lninc                  0.388889\n",
       "inccat                 0.373366\n",
       "income                 0.372731\n",
       "carvalue               0.317027\n",
       "othdebt                0.292554\n",
       "creddebt               0.265115\n",
       "carcatvalue            0.206938\n",
       "owndvd                 0.131962\n",
       "ownvcr                 0.127891\n",
       "owncd                  0.115810\n",
       "Name: total_spent_on_card, dtype: float64"
      ]
     },
     "execution_count": 26,
     "metadata": {},
     "output_type": "execute_result"
    }
   ],
   "source": [
    "p = Series(df.corr()['total_spent_on_card']).sort_values(ascending= False)[:15]\n",
    "p"
   ]
  },
  {
   "cell_type": "code",
   "execution_count": 27,
   "metadata": {},
   "outputs": [
    {
     "data": {
      "text/plain": [
       "414.25"
      ]
     },
     "execution_count": 27,
     "metadata": {},
     "output_type": "execute_result"
    }
   ],
   "source": [
    "df['total_spent_on_card'].median()"
   ]
  },
  {
   "cell_type": "markdown",
   "metadata": {},
   "source": [
    "# Removing outliers from total spent on cards"
   ]
  },
  {
   "cell_type": "code",
   "execution_count": 28,
   "metadata": {},
   "outputs": [
    {
     "data": {
      "text/plain": [
       "<matplotlib.axes._subplots.AxesSubplot at 0x23618a5fa58>"
      ]
     },
     "execution_count": 28,
     "metadata": {},
     "output_type": "execute_result"
    },
    {
     "data": {
      "image/png": "[encoded data removed]",
      "text/plain": [
       "<Figure size 432x288 with 1 Axes>"
      ]
     },
     "metadata": {},
     "output_type": "display_data"
    }
   ],
   "source": [
    "df['total_spent_on_card'] = np.where(df['total_spent_on_card']>1200, 414.25, df['total_spent_on_card'])\n",
    "df['total_spent_on_card'].plot.hist(bins=20)"
   ]
  },
  {
   "cell_type": "code",
   "execution_count": 29,
   "metadata": {},
   "outputs": [
    {
     "data": {
      "text/html": [
       "<div>\n",
       "<style scoped>\n",
       "    .dataframe tbody tr th:only-of-type {\n",
       "        vertical-align: middle;\n",
       "    }\n",
       "\n",
       "    .dataframe tbody tr th {\n",
       "        vertical-align: top;\n",
       "    }\n",
       "\n",
       "    .dataframe thead th {\n",
       "        text-align: right;\n",
       "    }\n",
       "</style>\n",
       "<table border=\"1\" class=\"dataframe\">\n",
       "  <thead>\n",
       "    <tr style=\"text-align: right;\">\n",
       "      <th></th>\n",
       "      <th>total_spent_on_card</th>\n",
       "      <th>cardspent</th>\n",
       "      <th>card2spent</th>\n",
       "      <th>card2items</th>\n",
       "      <th>carditems</th>\n",
       "      <th>lninc</th>\n",
       "      <th>inccat</th>\n",
       "      <th>income</th>\n",
       "      <th>carvalue</th>\n",
       "      <th>othdebt</th>\n",
       "      <th>creddebt</th>\n",
       "      <th>carcatvalue</th>\n",
       "      <th>owndvd</th>\n",
       "      <th>ownvcr</th>\n",
       "      <th>owncd</th>\n",
       "    </tr>\n",
       "  </thead>\n",
       "  <tbody>\n",
       "    <tr>\n",
       "      <th>count</th>\n",
       "      <td>5000.000000</td>\n",
       "      <td>5000.000000</td>\n",
       "      <td>5000.000000</td>\n",
       "      <td>5000.000000</td>\n",
       "      <td>5000.00000</td>\n",
       "      <td>5000.000000</td>\n",
       "      <td>5000.000000</td>\n",
       "      <td>5000.000000</td>\n",
       "      <td>5000.000000</td>\n",
       "      <td>5000.000000</td>\n",
       "      <td>5000.000000</td>\n",
       "      <td>5000.000000</td>\n",
       "      <td>5000.000000</td>\n",
       "      <td>5000.000000</td>\n",
       "      <td>5000.000000</td>\n",
       "    </tr>\n",
       "    <tr>\n",
       "      <th>mean</th>\n",
       "      <td>444.500044</td>\n",
       "      <td>337.202520</td>\n",
       "      <td>160.876110</td>\n",
       "      <td>4.666600</td>\n",
       "      <td>10.17740</td>\n",
       "      <td>3.699840</td>\n",
       "      <td>2.392200</td>\n",
       "      <td>54.759600</td>\n",
       "      <td>23.232580</td>\n",
       "      <td>3.654456</td>\n",
       "      <td>1.857364</td>\n",
       "      <td>1.389400</td>\n",
       "      <td>0.913600</td>\n",
       "      <td>0.915600</td>\n",
       "      <td>0.932800</td>\n",
       "    </tr>\n",
       "    <tr>\n",
       "      <th>std</th>\n",
       "      <td>234.320785</td>\n",
       "      <td>245.145068</td>\n",
       "      <td>146.292771</td>\n",
       "      <td>2.497017</td>\n",
       "      <td>3.39114</td>\n",
       "      <td>0.746945</td>\n",
       "      <td>1.221261</td>\n",
       "      <td>55.377511</td>\n",
       "      <td>21.231637</td>\n",
       "      <td>5.395214</td>\n",
       "      <td>3.415789</td>\n",
       "      <td>1.081296</td>\n",
       "      <td>0.280982</td>\n",
       "      <td>0.278015</td>\n",
       "      <td>0.250393</td>\n",
       "    </tr>\n",
       "    <tr>\n",
       "      <th>min</th>\n",
       "      <td>8.110000</td>\n",
       "      <td>0.000000</td>\n",
       "      <td>0.000000</td>\n",
       "      <td>0.000000</td>\n",
       "      <td>0.00000</td>\n",
       "      <td>2.200000</td>\n",
       "      <td>1.000000</td>\n",
       "      <td>9.000000</td>\n",
       "      <td>-1.000000</td>\n",
       "      <td>0.000000</td>\n",
       "      <td>0.000000</td>\n",
       "      <td>-1.000000</td>\n",
       "      <td>0.000000</td>\n",
       "      <td>0.000000</td>\n",
       "      <td>0.000000</td>\n",
       "    </tr>\n",
       "    <tr>\n",
       "      <th>25%</th>\n",
       "      <td>276.282500</td>\n",
       "      <td>183.377500</td>\n",
       "      <td>66.967500</td>\n",
       "      <td>3.000000</td>\n",
       "      <td>8.00000</td>\n",
       "      <td>3.180000</td>\n",
       "      <td>1.000000</td>\n",
       "      <td>24.000000</td>\n",
       "      <td>9.200000</td>\n",
       "      <td>0.980000</td>\n",
       "      <td>0.390000</td>\n",
       "      <td>1.000000</td>\n",
       "      <td>1.000000</td>\n",
       "      <td>1.000000</td>\n",
       "      <td>1.000000</td>\n",
       "    </tr>\n",
       "    <tr>\n",
       "      <th>50%</th>\n",
       "      <td>414.185000</td>\n",
       "      <td>276.360000</td>\n",
       "      <td>125.340000</td>\n",
       "      <td>5.000000</td>\n",
       "      <td>10.00000</td>\n",
       "      <td>3.640000</td>\n",
       "      <td>2.000000</td>\n",
       "      <td>38.000000</td>\n",
       "      <td>17.000000</td>\n",
       "      <td>2.100000</td>\n",
       "      <td>0.930000</td>\n",
       "      <td>1.000000</td>\n",
       "      <td>1.000000</td>\n",
       "      <td>1.000000</td>\n",
       "      <td>1.000000</td>\n",
       "    </tr>\n",
       "    <tr>\n",
       "      <th>75%</th>\n",
       "      <td>567.125000</td>\n",
       "      <td>418.537500</td>\n",
       "      <td>208.310000</td>\n",
       "      <td>6.000000</td>\n",
       "      <td>12.00000</td>\n",
       "      <td>4.200000</td>\n",
       "      <td>3.000000</td>\n",
       "      <td>67.000000</td>\n",
       "      <td>31.100000</td>\n",
       "      <td>4.310000</td>\n",
       "      <td>2.060000</td>\n",
       "      <td>2.000000</td>\n",
       "      <td>1.000000</td>\n",
       "      <td>1.000000</td>\n",
       "      <td>1.000000</td>\n",
       "    </tr>\n",
       "    <tr>\n",
       "      <th>max</th>\n",
       "      <td>1198.420000</td>\n",
       "      <td>3926.410000</td>\n",
       "      <td>2069.250000</td>\n",
       "      <td>15.000000</td>\n",
       "      <td>23.00000</td>\n",
       "      <td>6.980000</td>\n",
       "      <td>5.000000</td>\n",
       "      <td>1073.000000</td>\n",
       "      <td>99.600000</td>\n",
       "      <td>141.460000</td>\n",
       "      <td>109.070000</td>\n",
       "      <td>3.000000</td>\n",
       "      <td>1.000000</td>\n",
       "      <td>1.000000</td>\n",
       "      <td>1.000000</td>\n",
       "    </tr>\n",
       "  </tbody>\n",
       "</table>\n",
       "</div>"
      ],
      "text/plain": [
       "       total_spent_on_card    cardspent   card2spent   card2items   carditems  \\\n",
       "count          5000.000000  5000.000000  5000.000000  5000.000000  5000.00000   \n",
       "mean            444.500044   337.202520   160.876110     4.666600    10.17740   \n",
       "std             234.320785   245.145068   146.292771     2.497017     3.39114   \n",
       "min               8.110000     0.000000     0.000000     0.000000     0.00000   \n",
       "25%             276.282500   183.377500    66.967500     3.000000     8.00000   \n",
       "50%             414.185000   276.360000   125.340000     5.000000    10.00000   \n",
       "75%             567.125000   418.537500   208.310000     6.000000    12.00000   \n",
       "max            1198.420000  3926.410000  2069.250000    15.000000    23.00000   \n",
       "\n",
       "             lninc       inccat       income     carvalue      othdebt  \\\n",
       "count  5000.000000  5000.000000  5000.000000  5000.000000  5000.000000   \n",
       "mean      3.699840     2.392200    54.759600    23.232580     3.654456   \n",
       "std       0.746945     1.221261    55.377511    21.231637     5.395214   \n",
       "min       2.200000     1.000000     9.000000    -1.000000     0.000000   \n",
       "25%       3.180000     1.000000    24.000000     9.200000     0.980000   \n",
       "50%       3.640000     2.000000    38.000000    17.000000     2.100000   \n",
       "75%       4.200000     3.000000    67.000000    31.100000     4.310000   \n",
       "max       6.980000     5.000000  1073.000000    99.600000   141.460000   \n",
       "\n",
       "          creddebt  carcatvalue       owndvd       ownvcr        owncd  \n",
       "count  5000.000000  5000.000000  5000.000000  5000.000000  5000.000000  \n",
       "mean      1.857364     1.389400     0.913600     0.915600     0.932800  \n",
       "std       3.415789     1.081296     0.280982     0.278015     0.250393  \n",
       "min       0.000000    -1.000000     0.000000     0.000000     0.000000  \n",
       "25%       0.390000     1.000000     1.000000     1.000000     1.000000  \n",
       "50%       0.930000     1.000000     1.000000     1.000000     1.000000  \n",
       "75%       2.060000     2.000000     1.000000     1.000000     1.000000  \n",
       "max     109.070000     3.000000     1.000000     1.000000     1.000000  "
      ]
     },
     "execution_count": 29,
     "metadata": {},
     "output_type": "execute_result"
    }
   ],
   "source": [
    "df[p.index].describe()"
   ]
  },
  {
   "cell_type": "code",
   "execution_count": 30,
   "metadata": {},
   "outputs": [],
   "source": [
    "d = df[p.index]"
   ]
  },
  {
   "cell_type": "code",
   "execution_count": 31,
   "metadata": {},
   "outputs": [],
   "source": [
    "X = d.drop(['total_spent_on_card', 'cardspent', 'card2spent'], axis=1)\n",
    "Y = d['total_spent_on_card']"
   ]
  },
  {
   "cell_type": "markdown",
   "metadata": {},
   "source": [
    "# Splitting the data into train and test"
   ]
  },
  {
   "cell_type": "code",
   "execution_count": 32,
   "metadata": {},
   "outputs": [],
   "source": [
    "X1, X2, Y1, Y2 = train_test_split(X, Y, train_size=0.7, random_state=125)"
   ]
  },
  {
   "cell_type": "code",
   "execution_count": 33,
   "metadata": {},
   "outputs": [
    {
     "name": "stdout",
     "output_type": "stream",
     "text": [
      "(3500, 12)\n",
      "(1500, 12)\n",
      "(3500,)\n",
      "(1500,)\n"
     ]
    }
   ],
   "source": [
    "print (X1.shape)\n",
    "print (X2.shape)\n",
    "print (Y1.shape)\n",
    "print (Y2.shape)"
   ]
  },
  {
   "cell_type": "markdown",
   "metadata": {},
   "source": [
    "# Scaling data"
   ]
  },
  {
   "cell_type": "code",
   "execution_count": 34,
   "metadata": {},
   "outputs": [],
   "source": [
    "sc = StandardScaler().fit(X1)\n",
    "sc1 = sc.transform(X1)\n",
    "sc2 = sc.transform(X2)"
   ]
  },
  {
   "cell_type": "markdown",
   "metadata": {},
   "source": [
    "# Building models and comparing RMSE values for train and test"
   ]
  },
  {
   "cell_type": "code",
   "execution_count": 35,
   "metadata": {},
   "outputs": [
    {
     "name": "stdout",
     "output_type": "stream",
     "text": [
      "-----------------------------------------------------\n",
      "Train 177.1855647612196\n",
      "Test 181.7864598703473\n",
      "-----------------------------------------------------\n"
     ]
    },
    {
     "data": {
      "text/plain": [
       "<matplotlib.axes._subplots.AxesSubplot at 0x23618e8f940>"
      ]
     },
     "execution_count": 35,
     "metadata": {},
     "output_type": "execute_result"
    },
    {
     "data": {
      "image/png": "[encoded data removed]",
      "text/plain": [
       "<Figure size 432x288 with 1 Axes>"
      ]
     },
     "metadata": {},
     "output_type": "display_data"
    }
   ],
   "source": [
    "from sklearn.linear_model import LinearRegression, Lasso, Ridge\n",
    "lm=LinearRegression()\n",
    "lm.fit(sc1,Y1)\n",
    "rmse_lm_train=np.sqrt((((lm.predict(sc1)-Y1)**2).sum())/len(X1))\n",
    "rmse_lm_test=np.sqrt((((lm.predict(sc2)-Y2)**2).sum())/len(X2))\n",
    "print ('-----------------------------------------------------')\n",
    "print ('Train' , rmse_lm_train)\n",
    "print ('Test' , rmse_lm_test)\n",
    "print ('-----------------------------------------------------')\n",
    "Series(lm.coef_, X.columns).sort_values(ascending= False).plot(kind='bar', title='Feature Importances')"
   ]
  },
  {
   "cell_type": "code",
   "execution_count": 36,
   "metadata": {},
   "outputs": [
    {
     "data": {
      "text/plain": [
       "<matplotlib.axes._subplots.AxesSubplot at 0x23618e8bf98>"
      ]
     },
     "execution_count": 36,
     "metadata": {},
     "output_type": "execute_result"
    },
    {
     "data": {
      "image/png": "[encoded data removed]",
      "text/plain": [
       "<Figure size 432x288 with 1 Axes>"
      ]
     },
     "metadata": {},
     "output_type": "display_data"
    }
   ],
   "source": [
    "Series(lm.predict(X1)-Y1).plot.hist(bins=20)"
   ]
  },
  {
   "cell_type": "code",
   "execution_count": 37,
   "metadata": {},
   "outputs": [
    {
     "name": "stdout",
     "output_type": "stream",
     "text": [
      "-----------------------------------------------------\n",
      "Train: 203.4641968905185\n",
      "Test: 209.7984664107567\n",
      "-----------------------------------------------------\n"
     ]
    }
   ],
   "source": [
    "from sklearn.ensemble import RandomForestRegressor\n",
    "rf = RandomForestRegressor(n_estimators=200, max_features='auto', \n",
    "                           min_samples_split=1200, max_depth=10, min_samples_leaf=75)\n",
    "rf.fit(sc1,Y1)\n",
    "rmse_rf_train=np.sqrt((((rf.predict(sc1)-Y1)**2).sum())/len(X1))\n",
    "rmse_rf_test=np.sqrt((((rf.predict(sc2)-Y2)**2).sum())/len(X2))\n",
    "\n",
    "print ('-----------------------------------------------------')\n",
    "print ('Train:' , rmse_rf_train)\n",
    "print ('Test:' , rmse_rf_test)\n",
    "print ('-----------------------------------------------------')"
   ]
  },
  {
   "cell_type": "code",
   "execution_count": 38,
   "metadata": {},
   "outputs": [
    {
     "name": "stdout",
     "output_type": "stream",
     "text": [
      "-----------------------------------------------------\n",
      "ElasticNet(alpha=0.01, copy_X=True, fit_intercept=True, l1_ratio=0.1,\n",
      "      max_iter=1000, normalize=False, positive=False, precompute=False,\n",
      "      random_state=None, selection='cyclic', tol=0.0001, warm_start=False)\n",
      "{'alpha': 0.01, 'l1_ratio': 0.1}\n",
      "-31608.88660377873\n",
      "-----------------------------------------------------\n",
      "[mean: -31608.88660, std: 5213.80950, params: {'alpha': 0.01, 'l1_ratio': 0.1}, mean: -31610.98592, std: 5211.76346, params: {'alpha': 0.01, 'l1_ratio': 0.5}]\n",
      "-----------------------------------------------------\n",
      "177.19342281319334\n",
      "181.7962548284614\n"
     ]
    }
   ],
   "source": [
    "from sklearn.grid_search import GridSearchCV\n",
    "from sklearn.linear_model import ElasticNet\n",
    "el = ElasticNet()\n",
    "\n",
    "params = {\n",
    "    'alpha': [0.01, 0.1, 10, 100, 1000],\n",
    "    'l1_ratio': [0.1, 0.5, 1.0]\n",
    "}\n",
    "\n",
    "gs_el = GridSearchCV(el, params, cv=25, scoring='mean_squared_error')\n",
    "gs_el.fit(sc1, Y1)\n",
    "\n",
    "print ('-----------------------------------------------------')\n",
    "print (gs_el.best_estimator_)\n",
    "print (gs_el.best_params_)\n",
    "print (gs_el.best_score_)\n",
    "print ('-----------------------------------------------------')\n",
    "print (sorted(gs_el.grid_scores_, key=lambda x: x.mean_validation_score, reverse=True)[:2])\n",
    "print ('-----------------------------------------------------')\n",
    "rmse_gs_el_train=np.sqrt((((gs_el.predict(sc1)-Y1)**2).sum())/len(X1))\n",
    "rmse_gs_el_test=np.sqrt((((gs_el.predict(sc2)-Y2)**2).sum())/len(X2))\n",
    "print (rmse_gs_el_train)\n",
    "print (rmse_gs_el_test)"
   ]
  },
  {
   "cell_type": "code",
   "execution_count": 39,
   "metadata": {},
   "outputs": [
    {
     "name": "stdout",
     "output_type": "stream",
     "text": [
      "-----------------------------------------------------\n",
      "KNeighborsRegressor(algorithm='auto', leaf_size=30, metric='minkowski',\n",
      "          metric_params=None, n_jobs=1, n_neighbors=12, p=3,\n",
      "          weights='uniform')\n",
      "{'n_neighbors': 12, 'p': 3}\n",
      "-34017.41713521924\n",
      "-----------------------------------------------------\n",
      "[mean: -34017.41714, std: 5231.42453, params: {'n_neighbors': 12, 'p': 3}, mean: -34018.96421, std: 5309.61448, params: {'n_neighbors': 12, 'p': 2}]\n",
      "-----------------------------------------------------\n",
      "169.67798040212656\n",
      "189.08103318412068\n"
     ]
    }
   ],
   "source": [
    "from sklearn.grid_search import GridSearchCV\n",
    "from sklearn.neighbors import KNeighborsRegressor\n",
    "kn = KNeighborsRegressor(n_neighbors=8)\n",
    "\n",
    "params = {'n_neighbors': [8, 10, 12], 'p': [2, 3]}\n",
    "\n",
    "gs_kn = GridSearchCV(kn, params, cv=25, scoring='mean_squared_error')\n",
    "gs_kn.fit(sc1, Y1)\n",
    "\n",
    "print ('-----------------------------------------------------')\n",
    "print (gs_kn.best_estimator_)\n",
    "print (gs_kn.best_params_)\n",
    "print (gs_kn.best_score_)\n",
    "print ('-----------------------------------------------------')\n",
    "print (sorted(gs_kn.grid_scores_, key=lambda x: x.mean_validation_score, reverse=True)[:2])\n",
    "print ('-----------------------------------------------------')\n",
    "rmse_gs_kn_train=np.sqrt((((gs_kn.predict(sc1)-Y1)**2).sum())/len(X1))\n",
    "rmse_gs_kn_test=np.sqrt((((gs_kn.predict(sc2)-Y2)**2).sum())/len(X2))\n",
    "print (rmse_gs_kn_train)\n",
    "print (rmse_gs_kn_test)"
   ]
  },
  {
   "cell_type": "markdown",
   "metadata": {},
   "source": [
    "# SVR is a very time consuming process, better to avoid running "
   ]
  },
  {
   "cell_type": "code",
   "execution_count": 40,
   "metadata": {},
   "outputs": [
    {
     "name": "stdout",
     "output_type": "stream",
     "text": [
      "-----------------------------------------------------\n",
      "SVR(C=100, cache_size=200, coef0=0.0, degree=3, epsilon=0.1, gamma='auto',\n",
      "  kernel='rbf', max_iter=-1, shrinking=True, tol=0.001, verbose=False)\n",
      "{'C': 100, 'kernel': 'rbf'}\n",
      "-33326.48718970206\n",
      "-----------------------------------------------------\n",
      "Train: 176.2955446263862\n",
      "Test: 187.4374236180699\n",
      "-----------------------------------------------------\n"
     ]
    }
   ],
   "source": [
    "from sklearn.svm import SVR \n",
    "svr = SVR()\n",
    "\n",
    "params = {\n",
    "    'kernel': ['rbf'],\n",
    "   # 'gamma': [0.5, 1.0],\n",
    "    'C': [0.1, 10, 100, 1000]\n",
    "}\n",
    "\n",
    "gs_svr = GridSearchCV(svr, params, cv=5, scoring='mean_squared_error')\n",
    "gs_svr.fit(sc1, Y1)\n",
    "print ('-----------------------------------------------------')\n",
    "print (gs_svr.best_estimator_)\n",
    "print (gs_svr.best_params_)\n",
    "print (gs_svr.best_score_)\n",
    "print ('-----------------------------------------------------')\n",
    "rmse_gs_svr_train=np.sqrt((((gs_svr.predict(sc1)-Y1)**2).sum())/len(X1))\n",
    "rmse_gs_svr_test=np.sqrt((((gs_svr.predict(sc2)-Y2)**2).sum())/len(X2))\n",
    "print ('Train:' , rmse_gs_svr_train)\n",
    "print ('Test:' , rmse_gs_svr_test)\n",
    "print ('-----------------------------------------------------')"
   ]
  },
  {
   "cell_type": "code",
   "execution_count": 41,
   "metadata": {},
   "outputs": [
    {
     "name": "stdout",
     "output_type": "stream",
     "text": [
      "-----------------------------------------------------\n",
      "GradientBoostingRegressor(alpha=0.85, criterion='friedman_mse', init=None,\n",
      "             learning_rate=0.1, loss='ls', max_depth=2, max_features=0.5,\n",
      "             max_leaf_nodes=None, min_impurity_decrease=0.0,\n",
      "             min_impurity_split=None, min_samples_leaf=1,\n",
      "             min_samples_split=2, min_weight_fraction_leaf=0.0,\n",
      "             n_estimators=100, presort='auto', random_state=None,\n",
      "             subsample=0.8, verbose=0, warm_start=False)\n",
      "{'alpha': 0.85, 'learning_rate': 0.1, 'max_depth': 2, 'max_features': 0.5, 'n_estimators': 100}\n",
      "-31623.582932543268\n",
      "-----------------------------------------------------\n",
      "Train: 170.57966329180536\n",
      "Test: 181.22384246924608\n",
      "-----------------------------------------------------\n"
     ]
    }
   ],
   "source": [
    "from sklearn.grid_search import GridSearchCV\n",
    "from sklearn.ensemble import GradientBoostingRegressor\n",
    "gb = GradientBoostingRegressor(subsample=.8)\n",
    "\n",
    "params = {\n",
    "    'n_estimators': [75, 100],\n",
    "    'learning_rate': [0.05, 0.1, 0.5],\n",
    "    'max_features': [0.5, 1],\n",
    "    'max_depth': [2, 3, 4, 5],\n",
    "    'alpha': [0.85]\n",
    "}\n",
    "\n",
    "gs_gb = GridSearchCV(gb, params, cv=5, scoring='mean_squared_error')\n",
    "gs_gb.fit(sc1, Y1)\n",
    "print ('-----------------------------------------------------')\n",
    "print (gs_gb.best_estimator_)\n",
    "print (gs_gb.best_params_)\n",
    "print (gs_gb.best_score_)\n",
    "print ('-----------------------------------------------------')\n",
    "rmse_gs_gb_train=np.sqrt((((gs_gb.predict(sc1)-Y1)**2).sum())/len(X1))\n",
    "rmse_gs_gb_test=np.sqrt((((gs_gb.predict(sc2)-Y2)**2).sum())/len(X2))\n",
    "print ('Train:' , rmse_gs_gb_train)\n",
    "print ('Test:' , rmse_gs_gb_test)\n",
    "print ('-----------------------------------------------------')"
   ]
  },
  {
   "cell_type": "code",
   "execution_count": null,
   "metadata": {},
   "outputs": [],
   "source": []
  },
  {
   "cell_type": "markdown",
   "metadata": {},
   "source": [
    "### <big><b>Further exploring data to get some insights, but didn't work"
   ]
  },
  {
   "cell_type": "code",
   "execution_count": 42,
   "metadata": {},
   "outputs": [
    {
     "data": {
      "text/plain": [
       "Text(0,0.5,'Cumm Explained Variance Ratio')"
      ]
     },
     "execution_count": 42,
     "metadata": {},
     "output_type": "execute_result"
    },
    {
     "data": {
      "image/png": "[encoded data removed]",
      "text/plain": [
       "<Figure size 432x288 with 1 Axes>"
      ]
     },
     "metadata": {},
     "output_type": "display_data"
    }
   ],
   "source": [
    "pc = PCA(n_components=12).fit(sc1)\n",
    "d = Series(pc.explained_variance_ratio_).cumsum().plot()\n",
    "d.set_xlabel('No.of components')\n",
    "d.set_ylabel('Cumm Explained Variance Ratio')"
   ]
  },
  {
   "cell_type": "code",
   "execution_count": 43,
   "metadata": {},
   "outputs": [
    {
     "data": {
      "text/plain": [
       "<matplotlib.collections.PathCollection at 0x23618a00cc0>"
      ]
     },
     "execution_count": 43,
     "metadata": {},
     "output_type": "execute_result"
    },
    {
     "data": {
      "image/png": "[encoded data removed]",
      "text/plain": [
       "<Figure size 432x288 with 1 Axes>"
      ]
     },
     "metadata": {},
     "output_type": "display_data"
    }
   ],
   "source": [
    "pc = PCA(n_components=2).fit(sc1)\n",
    "pc1 = pc.transform(sc1)\n",
    "km = KMeans(n_clusters=3).fit(pc1)\n",
    "plt.scatter(pc1[:,0], pc1[:,1], c=km.labels_, cmap='Spectral')"
   ]
  },
  {
   "cell_type": "code",
   "execution_count": 44,
   "metadata": {},
   "outputs": [
    {
     "data": {
      "text/plain": [
       "<matplotlib.collections.PathCollection at 0x23618fe7b00>"
      ]
     },
     "execution_count": 44,
     "metadata": {},
     "output_type": "execute_result"
    },
    {
     "data": {
      "image/png": "[encoded data removed]",
      "text/plain": [
       "<Figure size 432x288 with 1 Axes>"
      ]
     },
     "metadata": {},
     "output_type": "display_data"
    }
   ],
   "source": [
    "pc = PCA(n_components=2).fit(sc1)\n",
    "pc1 = pc.transform(sc1)\n",
    "db = DBSCAN(eps=0.75).fit(pc1)\n",
    "plt.scatter(pc1[:,0], pc1[:,1], c=db.labels_, cmap='Spectral')"
   ]
  },
  {
   "cell_type": "code",
   "execution_count": 45,
   "metadata": {},
   "outputs": [
    {
     "name": "stdout",
     "output_type": "stream",
     "text": [
      "-----------------------------------------------------\n",
      "Train 177.7883629399461\n",
      "Test 182.92160786880143\n",
      "-----------------------------------------------------\n"
     ]
    },
    {
     "data": {
      "text/html": [
       "<div>\n",
       "<style scoped>\n",
       "    .dataframe tbody tr th:only-of-type {\n",
       "        vertical-align: middle;\n",
       "    }\n",
       "\n",
       "    .dataframe tbody tr th {\n",
       "        vertical-align: top;\n",
       "    }\n",
       "\n",
       "    .dataframe thead th {\n",
       "        text-align: right;\n",
       "    }\n",
       "</style>\n",
       "<table border=\"1\" class=\"dataframe\">\n",
       "  <thead>\n",
       "    <tr style=\"text-align: right;\">\n",
       "      <th></th>\n",
       "      <th>total_spent_on_card</th>\n",
       "    </tr>\n",
       "    <tr>\n",
       "      <th>cluster</th>\n",
       "      <th></th>\n",
       "    </tr>\n",
       "  </thead>\n",
       "  <tbody>\n",
       "    <tr>\n",
       "      <th>-1.0</th>\n",
       "      <td>549.824444</td>\n",
       "    </tr>\n",
       "    <tr>\n",
       "      <th>0.0</th>\n",
       "      <td>443.623585</td>\n",
       "    </tr>\n",
       "    <tr>\n",
       "      <th>1.0</th>\n",
       "      <td>437.267015</td>\n",
       "    </tr>\n",
       "    <tr>\n",
       "      <th>2.0</th>\n",
       "      <td>432.034225</td>\n",
       "    </tr>\n",
       "    <tr>\n",
       "      <th>3.0</th>\n",
       "      <td>468.191263</td>\n",
       "    </tr>\n",
       "  </tbody>\n",
       "</table>\n",
       "</div>"
      ],
      "text/plain": [
       "         total_spent_on_card\n",
       "cluster                     \n",
       "-1.0              549.824444\n",
       " 0.0              443.623585\n",
       " 1.0              437.267015\n",
       " 2.0              432.034225\n",
       " 3.0              468.191263"
      ]
     },
     "execution_count": 45,
     "metadata": {},
     "output_type": "execute_result"
    }
   ],
   "source": [
    "pc = PCA(n_components=8).fit(sc1)\n",
    "pc_train = DataFrame(pc.transform(sc1), columns=['PC_' + str(i) for i in range(8)])\n",
    "pc_test = DataFrame(pc.transform(sc2), columns=['PC_' + str(i) for i in range(8)])\n",
    "pc_train['cluster']=db.labels_\n",
    "pc_test['cluster']=db.fit_predict(pc_test)\n",
    "\n",
    "from sklearn.linear_model import LinearRegression, Lasso, Ridge\n",
    "lm=LinearRegression()\n",
    "lm.fit(pc_train,Y1)\n",
    "rmse_lm_train=np.sqrt((((lm.predict(pc_train)-Y1)**2).sum())/len(X1))\n",
    "rmse_lm_test=np.sqrt((((lm.predict(pc_test)-Y2)**2).sum())/len(X2))\n",
    "print ('-----------------------------------------------------')\n",
    "print ('Train' , rmse_lm_train)\n",
    "print ('Test' , rmse_lm_test)\n",
    "print ('-----------------------------------------------------')\n",
    "DataFrame(pd.concat([Y1.sort_index(), pc_train['cluster']], axis=1)).groupby('cluster').mean()"
   ]
  },
  {
   "cell_type": "code",
   "execution_count": null,
   "metadata": {},
   "outputs": [],
   "source": []
  },
  {
   "cell_type": "code",
   "execution_count": null,
   "metadata": {},
   "outputs": [],
   "source": []
  }
 ],
 "metadata": {
  "kernelspec": {
   "display_name": "Python 3",
   "language": "python",
   "name": "python3"
  },
  "language_info": {
   "codemirror_mode": {
    "name": "ipython",
    "version": 3
   },
   "file_extension": ".py",
   "mimetype": "text/x-python",
   "name": "python",
   "nbconvert_exporter": "python",
   "pygments_lexer": "ipython3",
   "version": "3.6.5"
  }
 },
 "nbformat": 4,
 "nbformat_minor": 2
}
